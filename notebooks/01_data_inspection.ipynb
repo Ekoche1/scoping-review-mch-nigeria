{
 "cells": [
  {
   "cell_type": "code",
   "execution_count": 1,
   "id": "1fe165b0",
   "metadata": {},
   "outputs": [
    {
     "name": "stdout",
     "output_type": "stream",
     "text": [
      "Dataset shape (rows, columns): (228, 25)\n",
      "\n",
      "Column names:\n",
      "['Covidence #', 'Study ID', 'Title', 'Reviewer Name', 'Year of publication', 'Journal name', 'First author affiliation', 'Study design', 'Study setting', 'Urban–Rural', 'Region', 'Population focus', 'Sample size', 'Funding sources', 'Ethics approval reported', 'Verbatim text of limitations', '-- SAMPLING & DESIGN --', '-- MEASUREMENT & DATA --', '-- CONTEXT & LOGISTICS --', '-- ANALYSIS & GENERALIZABILITY --', '-- RESEARCH CAPACITY --', 'Number of limitations reported', 'Journal type ', 'Multi-site study ', 'Topic area']\n"
     ]
    }
   ],
   "source": [
    "# Load the data and understand its basic structure\n",
    "import pandas as pd\n",
    "\n",
    "# Load the dataset\n",
    "df = pd.read_csv('../data/raw/Extracted_data.csv')\n",
    "\n",
    "# Basic inspection\n",
    "print(\"Dataset shape (rows, columns):\", df.shape)\n",
    "print(\"\\nColumn names:\")\n",
    "print(df.columns.tolist())"
   ]
  },
  {
   "cell_type": "code",
   "execution_count": 2,
   "id": "2c4b5622",
   "metadata": {},
   "outputs": [
    {
     "name": "stdout",
     "output_type": "stream",
     "text": [
      "=== MISSING DATA SUMMARY ===\n"
     ]
    },
    {
     "data": {
      "text/html": [
       "<div>\n",
       "<style scoped>\n",
       "    .dataframe tbody tr th:only-of-type {\n",
       "        vertical-align: middle;\n",
       "    }\n",
       "\n",
       "    .dataframe tbody tr th {\n",
       "        vertical-align: top;\n",
       "    }\n",
       "\n",
       "    .dataframe thead th {\n",
       "        text-align: right;\n",
       "    }\n",
       "</style>\n",
       "<table border=\"1\" class=\"dataframe\">\n",
       "  <thead>\n",
       "    <tr style=\"text-align: right;\">\n",
       "      <th></th>\n",
       "      <th>Missing Count</th>\n",
       "      <th>Missing Percentage</th>\n",
       "    </tr>\n",
       "  </thead>\n",
       "  <tbody>\n",
       "    <tr>\n",
       "      <th>Journal name</th>\n",
       "      <td>1</td>\n",
       "      <td>0.438596</td>\n",
       "    </tr>\n",
       "    <tr>\n",
       "      <th>Urban–Rural</th>\n",
       "      <td>1</td>\n",
       "      <td>0.438596</td>\n",
       "    </tr>\n",
       "    <tr>\n",
       "      <th>Population focus</th>\n",
       "      <td>1</td>\n",
       "      <td>0.438596</td>\n",
       "    </tr>\n",
       "    <tr>\n",
       "      <th>Sample size</th>\n",
       "      <td>1</td>\n",
       "      <td>0.438596</td>\n",
       "    </tr>\n",
       "    <tr>\n",
       "      <th>Funding sources</th>\n",
       "      <td>47</td>\n",
       "      <td>20.614035</td>\n",
       "    </tr>\n",
       "    <tr>\n",
       "      <th>-- SAMPLING &amp; DESIGN --</th>\n",
       "      <td>38</td>\n",
       "      <td>16.666667</td>\n",
       "    </tr>\n",
       "    <tr>\n",
       "      <th>-- MEASUREMENT &amp; DATA --</th>\n",
       "      <td>90</td>\n",
       "      <td>39.473684</td>\n",
       "    </tr>\n",
       "    <tr>\n",
       "      <th>-- CONTEXT &amp; LOGISTICS --</th>\n",
       "      <td>174</td>\n",
       "      <td>76.315789</td>\n",
       "    </tr>\n",
       "    <tr>\n",
       "      <th>-- ANALYSIS &amp; GENERALIZABILITY --</th>\n",
       "      <td>90</td>\n",
       "      <td>39.473684</td>\n",
       "    </tr>\n",
       "    <tr>\n",
       "      <th>-- RESEARCH CAPACITY --</th>\n",
       "      <td>221</td>\n",
       "      <td>96.929825</td>\n",
       "    </tr>\n",
       "    <tr>\n",
       "      <th>Number of limitations reported</th>\n",
       "      <td>5</td>\n",
       "      <td>2.192982</td>\n",
       "    </tr>\n",
       "  </tbody>\n",
       "</table>\n",
       "</div>"
      ],
      "text/plain": [
       "                                   Missing Count  Missing Percentage\n",
       "Journal name                                   1            0.438596\n",
       "Urban–Rural                                    1            0.438596\n",
       "Population focus                               1            0.438596\n",
       "Sample size                                    1            0.438596\n",
       "Funding sources                               47           20.614035\n",
       "-- SAMPLING & DESIGN --                       38           16.666667\n",
       "-- MEASUREMENT & DATA --                      90           39.473684\n",
       "-- CONTEXT & LOGISTICS --                    174           76.315789\n",
       "-- ANALYSIS & GENERALIZABILITY --             90           39.473684\n",
       "-- RESEARCH CAPACITY --                      221           96.929825\n",
       "Number of limitations reported                 5            2.192982"
      ]
     },
     "execution_count": 2,
     "metadata": {},
     "output_type": "execute_result"
    }
   ],
   "source": [
    "# Check for missing data\n",
    "print(\"=== MISSING DATA SUMMARY ===\")\n",
    "missing_data = df.isnull().sum()\n",
    "missing_percent = (missing_data / len(df)) * 100\n",
    "\n",
    "# Show only columns with missing data\n",
    "missing_summary = pd.DataFrame({\n",
    "    'Missing Count': missing_data,\n",
    "    'Missing Percentage': missing_percent\n",
    "})\n",
    "\n",
    "# Display columns with any missing values\n",
    "missing_summary[missing_summary['Missing Count'] > 0]"
   ]
  },
  {
   "cell_type": "code",
   "execution_count": 3,
   "id": "4498db1e",
   "metadata": {},
   "outputs": [
    {
     "name": "stdout",
     "output_type": "stream",
     "text": [
      "=== SAMPLE OF ROWS WITH MISSING CRITICAL DATA ===\n",
      "Rows with missing critical data: 3\n"
     ]
    },
    {
     "data": {
      "text/html": [
       "<div>\n",
       "<style scoped>\n",
       "    .dataframe tbody tr th:only-of-type {\n",
       "        vertical-align: middle;\n",
       "    }\n",
       "\n",
       "    .dataframe tbody tr th {\n",
       "        vertical-align: top;\n",
       "    }\n",
       "\n",
       "    .dataframe thead th {\n",
       "        text-align: right;\n",
       "    }\n",
       "</style>\n",
       "<table border=\"1\" class=\"dataframe\">\n",
       "  <thead>\n",
       "    <tr style=\"text-align: right;\">\n",
       "      <th></th>\n",
       "      <th>Study ID</th>\n",
       "      <th>Journal name</th>\n",
       "      <th>Population focus</th>\n",
       "      <th>Sample size</th>\n",
       "    </tr>\n",
       "  </thead>\n",
       "  <tbody>\n",
       "    <tr>\n",
       "      <th>13</th>\n",
       "      <td>Ejeliogu 2020</td>\n",
       "      <td>NaN</td>\n",
       "      <td>Mixed child populations</td>\n",
       "      <td>194</td>\n",
       "    </tr>\n",
       "    <tr>\n",
       "      <th>117</th>\n",
       "      <td>Ikeanyi 2015</td>\n",
       "      <td>Nigerian Journal of Clinical Practice</td>\n",
       "      <td>NaN</td>\n",
       "      <td>3442</td>\n",
       "    </tr>\n",
       "    <tr>\n",
       "      <th>227</th>\n",
       "      <td>Ogu 2023</td>\n",
       "      <td>BMC Health Services Research</td>\n",
       "      <td>Pregnant women; Mothers (postnatal); Health wo...</td>\n",
       "      <td>NaN</td>\n",
       "    </tr>\n",
       "  </tbody>\n",
       "</table>\n",
       "</div>"
      ],
      "text/plain": [
       "          Study ID                           Journal name  \\\n",
       "13   Ejeliogu 2020                                    NaN   \n",
       "117   Ikeanyi 2015  Nigerian Journal of Clinical Practice   \n",
       "227       Ogu 2023           BMC Health Services Research   \n",
       "\n",
       "                                      Population focus Sample size  \n",
       "13                            Mixed child populations          194  \n",
       "117                                                NaN        3442  \n",
       "227  Pregnant women; Mothers (postnatal); Health wo...         NaN  "
      ]
     },
     "metadata": {},
     "output_type": "display_data"
    }
   ],
   "source": [
    "# Understand the nature of missing data\n",
    "print(\"=== SAMPLE OF ROWS WITH MISSING CRITICAL DATA ===\")\n",
    "\n",
    "# Check rows with missing critical fields\n",
    "critical_missing = df[df['Journal name'].isnull() | \n",
    "                     df['Population focus'].isnull() |\n",
    "                     df['Sample size'].isnull()]\n",
    "\n",
    "print(\"Rows with missing critical data:\", len(critical_missing))\n",
    "if len(critical_missing) > 0:\n",
    "    display(critical_missing[['Study ID', 'Journal name', 'Population focus', 'Sample size']])"
   ]
  },
  {
   "cell_type": "code",
   "execution_count": 4,
   "id": "f35d43a9",
   "metadata": {},
   "outputs": [
    {
     "name": "stdout",
     "output_type": "stream",
     "text": [
      "DATA CLEANING STEP: Critical missing values identified\n",
      "Action Required: Manual verification in Covidence for studies:\n",
      " - Study ID 13: Missing Journal name\n",
      " - Study ID 117: Missing Population focus\n",
      " - Study ID 227: Missing Sample size\n",
      "Next: Update data in Covidence, re-export CSV, then reload data for analysis\n"
     ]
    }
   ],
   "source": [
    "# This is what you SHOULD document in your notebook:\n",
    "print(\"DATA CLEANING STEP: Critical missing values identified\")\n",
    "print(\"Action Required: Manual verification in Covidence for studies:\")\n",
    "print(\" - Study ID 13: Missing Journal name\")\n",
    "print(\" - Study ID 117: Missing Population focus\") \n",
    "print(\" - Study ID 227: Missing Sample size\")\n",
    "print(\"Next: Update data in Covidence, re-export CSV, then reload data for analysis\")"
   ]
  }
 ],
 "metadata": {
  "kernelspec": {
   "display_name": "base",
   "language": "python",
   "name": "python3"
  },
  "language_info": {
   "codemirror_mode": {
    "name": "ipython",
    "version": 3
   },
   "file_extension": ".py",
   "mimetype": "text/x-python",
   "name": "python",
   "nbconvert_exporter": "python",
   "pygments_lexer": "ipython3",
   "version": "3.12.3"
  }
 },
 "nbformat": 4,
 "nbformat_minor": 5
}
